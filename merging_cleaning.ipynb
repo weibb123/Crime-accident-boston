{
 "cells": [
  {
   "cell_type": "code",
   "execution_count": 1,
   "metadata": {},
   "outputs": [],
   "source": [
    "import pandas as pd\n",
    "import glob\n",
    "import os"
   ]
  },
  {
   "cell_type": "code",
   "execution_count": 5,
   "metadata": {},
   "outputs": [
    {
     "name": "stdout",
     "output_type": "stream",
     "text": [
      "Collecting openpyxl\n",
      "  Downloading openpyxl-3.1.5-py2.py3-none-any.whl.metadata (2.5 kB)\n",
      "Collecting et-xmlfile (from openpyxl)\n",
      "  Downloading et_xmlfile-1.1.0-py3-none-any.whl.metadata (1.8 kB)\n",
      "Downloading openpyxl-3.1.5-py2.py3-none-any.whl (250 kB)\n",
      "Downloading et_xmlfile-1.1.0-py3-none-any.whl (4.7 kB)\n",
      "Installing collected packages: et-xmlfile, openpyxl\n",
      "Successfully installed et-xmlfile-1.1.0 openpyxl-3.1.5\n"
     ]
    }
   ],
   "source": [
    "!pip install openpyxl"
   ]
  },
  {
   "cell_type": "markdown",
   "metadata": {},
   "source": [
    "## Merge multiple years of dataset"
   ]
  },
  {
   "cell_type": "code",
   "execution_count": 8,
   "metadata": {},
   "outputs": [],
   "source": [
    "def standardize_datetime(dt):\n",
    "    \"\"\"\n",
    "    Standardize datetime objects by removing timezone information.\n",
    "    \n",
    "    Parameters:\n",
    "    dt: datetime object or pandas timestamp\n",
    "    \n",
    "    Returns:\n",
    "    standardized datetime object\n",
    "    \"\"\"\n",
    "    if pd.isna(dt):\n",
    "        return dt\n",
    "    if hasattr(dt, 'tz'):\n",
    "        # Convert to timezone-naive datetime\n",
    "        return dt.tz_localize(None)\n",
    "    return dt"
   ]
  },
  {
   "cell_type": "code",
   "execution_count": 11,
   "metadata": {},
   "outputs": [],
   "source": [
    "def merge_crime_data(data_path, file_pattern='*.xlsx'):\n",
    "    \"\"\"\n",
    "    Merge multiple yearly Excel crime data files into a single DataFrame.\n",
    "    \n",
    "    Parameters:\n",
    "    data_path (str): Path to the directory containing Excel files\n",
    "    file_pattern (str): Pattern to match Excel files\n",
    "    \n",
    "    Returns:\n",
    "    pandas.DataFrame: Merged dataset\n",
    "    dict: Summary statistics about the merge\n",
    "    \"\"\"\n",
    "    all_dataframes = []\n",
    "    \n",
    "    # Get list of all Excel files\n",
    "    files = glob.glob(os.path.join(data_path, file_pattern))\n",
    "    \n",
    "    for file in sorted(files):\n",
    "        year = os.path.basename(file).split('.')[0]  # Get filename without extension\n",
    "        try:\n",
    "            # Read Excel file\n",
    "            df = pd.read_excel(file)\n",
    "            \n",
    "            # Basic data cleaning\n",
    "            # Convert date column\n",
    "            df['OCCURRED_ON_DATE'] = pd.to_datetime(df['OCCURRED_ON_DATE'], errors='coerce')\n",
    "\n",
    "            # Remove timezone information\n",
    "            df['OCCURRED_ON_DATE'] = df['OCCURRED_ON_DATE'].apply(standardize_datetime)\n",
    "            \n",
    "            # Convert coordinates to numeric, handling any errors\n",
    "            df['Lat'] = pd.to_numeric(df['Lat'], errors='coerce')\n",
    "            df['Long'] = pd.to_numeric(df['Long'], errors='coerce')\n",
    "\n",
    "            # Ensure YEAR is numeric\n",
    "            df['YEAR'] = pd.to_numeric(df['YEAR'], errors='coerce')\n",
    "            \n",
    "            all_dataframes.append(df)\n",
    "            \n",
    "        except Exception as e:\n",
    "            print(f\"Error processing {year}: {str(e)}\")\n",
    "    \n",
    "    if all_dataframes:\n",
    "        merged_df = pd.concat(all_dataframes, ignore_index=True)\n",
    "        \n",
    "        # Remove duplicate incidents based on INCIDENT_NUMBER\n",
    "        merged_df.drop_duplicates(subset=['INCIDENT_NUMBER'], keep='first', inplace=True)\n",
    "        \n",
    "        # Sort by date\n",
    "        merged_df.sort_values('OCCURRED_ON_DATE', inplace=True)\n",
    "\n",
    "        # Verify date column is timezone-naive\n",
    "        print(\"Verifying datetime consistency...\")\n",
    "        merged_df['OCCURRED_ON_DATE'] = merged_df['OCCURRED_ON_DATE'].apply(standardize_datetime)\n",
    "    \n",
    "        return merged_df\n",
    "    else:\n",
    "        raise ValueError(\"No datasets were successfully loaded\")"
   ]
  },
  {
   "cell_type": "code",
   "execution_count": 12,
   "metadata": {},
   "outputs": [
    {
     "name": "stdout",
     "output_type": "stream",
     "text": [
      "Merging datasets...\n",
      "Verifying datetime consistency...\n",
      "\n",
      "Merged data saved to merged_crime_data_2015_2024.xlsx\n"
     ]
    }
   ],
   "source": [
    "# Example directory path - replace with your actual path\n",
    "data_path = \"./dataset\"\n",
    "\n",
    "# Merge datasets\n",
    "print(\"Merging datasets...\")\n",
    "merged_df = merge_crime_data(data_path)\n",
    "        \n",
    "# Save merged dataset\n",
    "output_file = 'merged_crime_data_2015_2024.xlsx'\n",
    "merged_df.to_excel(output_file, index=False)\n",
    "print(f\"\\nMerged data saved to {output_file}\")"
   ]
  },
  {
   "cell_type": "markdown",
   "metadata": {},
   "source": [
    "once merged, lets try to load in the dataset to preview it."
   ]
  },
  {
   "cell_type": "code",
   "execution_count": 14,
   "metadata": {},
   "outputs": [
    {
     "data": {
      "text/html": [
       "<div>\n",
       "<style scoped>\n",
       "    .dataframe tbody tr th:only-of-type {\n",
       "        vertical-align: middle;\n",
       "    }\n",
       "\n",
       "    .dataframe tbody tr th {\n",
       "        vertical-align: top;\n",
       "    }\n",
       "\n",
       "    .dataframe thead th {\n",
       "        text-align: right;\n",
       "    }\n",
       "</style>\n",
       "<table border=\"1\" class=\"dataframe\">\n",
       "  <thead>\n",
       "    <tr style=\"text-align: right;\">\n",
       "      <th></th>\n",
       "      <th>INCIDENT_NUMBER</th>\n",
       "      <th>OFFENSE_CODE</th>\n",
       "      <th>OFFENSE_CODE_GROUP</th>\n",
       "      <th>OFFENSE_DESCRIPTION</th>\n",
       "      <th>DISTRICT</th>\n",
       "      <th>REPORTING_AREA</th>\n",
       "      <th>SHOOTING</th>\n",
       "      <th>OCCURRED_ON_DATE</th>\n",
       "      <th>YEAR</th>\n",
       "      <th>MONTH</th>\n",
       "      <th>DAY_OF_WEEK</th>\n",
       "      <th>HOUR</th>\n",
       "      <th>UCR_PART</th>\n",
       "      <th>STREET</th>\n",
       "      <th>Lat</th>\n",
       "      <th>Long</th>\n",
       "      <th>Location</th>\n",
       "    </tr>\n",
       "  </thead>\n",
       "  <tbody>\n",
       "    <tr>\n",
       "      <th>0</th>\n",
       "      <td>I172040657</td>\n",
       "      <td>2629</td>\n",
       "      <td>Harassment</td>\n",
       "      <td>HARASSMENT</td>\n",
       "      <td>C11</td>\n",
       "      <td>397</td>\n",
       "      <td>NaN</td>\n",
       "      <td>2015-06-15</td>\n",
       "      <td>2015</td>\n",
       "      <td>6</td>\n",
       "      <td>Monday</td>\n",
       "      <td>0</td>\n",
       "      <td>Part Two</td>\n",
       "      <td>MELBOURNE ST</td>\n",
       "      <td>42.291093</td>\n",
       "      <td>-71.065945</td>\n",
       "      <td>(42.29109287, -71.06594539)</td>\n",
       "    </tr>\n",
       "    <tr>\n",
       "      <th>1</th>\n",
       "      <td>I182061268</td>\n",
       "      <td>3201</td>\n",
       "      <td>Property Lost</td>\n",
       "      <td>PROPERTY - LOST</td>\n",
       "      <td>NaN</td>\n",
       "      <td></td>\n",
       "      <td>NaN</td>\n",
       "      <td>2015-06-15</td>\n",
       "      <td>2015</td>\n",
       "      <td>6</td>\n",
       "      <td>Monday</td>\n",
       "      <td>0</td>\n",
       "      <td>Part Three</td>\n",
       "      <td>BERNARD</td>\n",
       "      <td>NaN</td>\n",
       "      <td>NaN</td>\n",
       "      <td>NaN</td>\n",
       "    </tr>\n",
       "    <tr>\n",
       "      <th>2</th>\n",
       "      <td>I162013546</td>\n",
       "      <td>3201</td>\n",
       "      <td>Property Lost</td>\n",
       "      <td>PROPERTY - LOST</td>\n",
       "      <td>B3</td>\n",
       "      <td>433</td>\n",
       "      <td>NaN</td>\n",
       "      <td>2015-06-15</td>\n",
       "      <td>2015</td>\n",
       "      <td>6</td>\n",
       "      <td>Monday</td>\n",
       "      <td>0</td>\n",
       "      <td>Part Three</td>\n",
       "      <td>NORFOLK ST</td>\n",
       "      <td>42.283634</td>\n",
       "      <td>-71.082813</td>\n",
       "      <td>(42.28363434, -71.08281320)</td>\n",
       "    </tr>\n",
       "    <tr>\n",
       "      <th>3</th>\n",
       "      <td>I152051083</td>\n",
       "      <td>3115</td>\n",
       "      <td>Investigate Person</td>\n",
       "      <td>INVESTIGATE PERSON</td>\n",
       "      <td>A7</td>\n",
       "      <td>20</td>\n",
       "      <td>NaN</td>\n",
       "      <td>2015-06-15</td>\n",
       "      <td>2015</td>\n",
       "      <td>6</td>\n",
       "      <td>Monday</td>\n",
       "      <td>0</td>\n",
       "      <td>Part Three</td>\n",
       "      <td>PARIS ST</td>\n",
       "      <td>42.377023</td>\n",
       "      <td>-71.032247</td>\n",
       "      <td>(42.37702319, -71.03224730)</td>\n",
       "    </tr>\n",
       "    <tr>\n",
       "      <th>4</th>\n",
       "      <td>I152059178</td>\n",
       "      <td>2647</td>\n",
       "      <td>Other</td>\n",
       "      <td>THREATS TO DO BODILY HARM</td>\n",
       "      <td>C11</td>\n",
       "      <td>359</td>\n",
       "      <td>NaN</td>\n",
       "      <td>2015-06-15</td>\n",
       "      <td>2015</td>\n",
       "      <td>6</td>\n",
       "      <td>Monday</td>\n",
       "      <td>0</td>\n",
       "      <td>Part Two</td>\n",
       "      <td>WASHINGTON ST</td>\n",
       "      <td>42.293606</td>\n",
       "      <td>-71.071887</td>\n",
       "      <td>(42.29360585, -71.07188650)</td>\n",
       "    </tr>\n",
       "  </tbody>\n",
       "</table>\n",
       "</div>"
      ],
      "text/plain": [
       "  INCIDENT_NUMBER  OFFENSE_CODE  OFFENSE_CODE_GROUP  \\\n",
       "0      I172040657          2629          Harassment   \n",
       "1      I182061268          3201       Property Lost   \n",
       "2      I162013546          3201       Property Lost   \n",
       "3      I152051083          3115  Investigate Person   \n",
       "4      I152059178          2647               Other   \n",
       "\n",
       "         OFFENSE_DESCRIPTION DISTRICT REPORTING_AREA SHOOTING  \\\n",
       "0                 HARASSMENT      C11            397      NaN   \n",
       "1            PROPERTY - LOST      NaN                     NaN   \n",
       "2            PROPERTY - LOST       B3            433      NaN   \n",
       "3         INVESTIGATE PERSON       A7             20      NaN   \n",
       "4  THREATS TO DO BODILY HARM      C11            359      NaN   \n",
       "\n",
       "  OCCURRED_ON_DATE  YEAR  MONTH DAY_OF_WEEK  HOUR    UCR_PART         STREET  \\\n",
       "0       2015-06-15  2015      6      Monday     0    Part Two   MELBOURNE ST   \n",
       "1       2015-06-15  2015      6      Monday     0  Part Three        BERNARD   \n",
       "2       2015-06-15  2015      6      Monday     0  Part Three     NORFOLK ST   \n",
       "3       2015-06-15  2015      6      Monday     0  Part Three       PARIS ST   \n",
       "4       2015-06-15  2015      6      Monday     0    Part Two  WASHINGTON ST   \n",
       "\n",
       "         Lat       Long                     Location  \n",
       "0  42.291093 -71.065945  (42.29109287, -71.06594539)  \n",
       "1        NaN        NaN                          NaN  \n",
       "2  42.283634 -71.082813  (42.28363434, -71.08281320)  \n",
       "3  42.377023 -71.032247  (42.37702319, -71.03224730)  \n",
       "4  42.293606 -71.071887  (42.29360585, -71.07188650)  "
      ]
     },
     "execution_count": 14,
     "metadata": {},
     "output_type": "execute_result"
    }
   ],
   "source": [
    "df = pd.read_excel(\"merged_crime_data_2015_2024.xlsx\")\n",
    "df.head(5)"
   ]
  },
  {
   "cell_type": "markdown",
   "metadata": {},
   "source": [
    "## Exploration data analysis begins"
   ]
  },
  {
   "cell_type": "code",
   "execution_count": 15,
   "metadata": {},
   "outputs": [
    {
     "data": {
      "text/plain": [
       "(755610, 6)"
      ]
     },
     "execution_count": 15,
     "metadata": {},
     "output_type": "execute_result"
    }
   ],
   "source": [
    "# filtering\n",
    "new_df = df[['OFFENSE_DESCRIPTION', 'DISTRICT', 'REPORTING_AREA', 'YEAR', 'Lat', 'Long']]\n",
    "new_df.shape"
   ]
  },
  {
   "cell_type": "code",
   "execution_count": 16,
   "metadata": {},
   "outputs": [
    {
     "data": {
      "text/plain": [
       "OFFENSE_DESCRIPTION        0\n",
       "DISTRICT                4432\n",
       "REPORTING_AREA         30254\n",
       "YEAR                       0\n",
       "Lat                    41021\n",
       "Long                   41021\n",
       "dtype: int64"
      ]
     },
     "execution_count": 16,
     "metadata": {},
     "output_type": "execute_result"
    }
   ],
   "source": [
    "# Check for missing values\n",
    "new_df.isnull().sum()"
   ]
  },
  {
   "cell_type": "code",
   "execution_count": 19,
   "metadata": {},
   "outputs": [],
   "source": [
    "new_df = new_df.dropna()"
   ]
  },
  {
   "cell_type": "markdown",
   "metadata": {},
   "source": [
    "## Basic Visualizations"
   ]
  },
  {
   "cell_type": "code",
   "execution_count": 31,
   "metadata": {},
   "outputs": [
    {
     "data": {
      "text/plain": [
       "<Axes: title={'center': 'Number of Offenses Per Year'}, xlabel='YEAR'>"
      ]
     },
     "execution_count": 31,
     "metadata": {},
     "output_type": "execute_result"
    },
    {
     "data": {
      "image/png": "[encoded data removed]",
      "text/plain": [
       "<Figure size 640x480 with 1 Axes>"
      ]
     },
     "metadata": {},
     "output_type": "display_data"
    }
   ],
   "source": [
    "import matplotlib.pyplot as plt\n",
    "\n",
    "# Offenses per year\n",
    "new_df.groupby('YEAR')['OFFENSE_DESCRIPTION'].count().plot(kind='bar', title=\"Number of Offenses Per Year\")"
   ]
  },
  {
   "cell_type": "code",
   "execution_count": 33,
   "metadata": {},
   "outputs": [],
   "source": [
    "new_df.to_csv(\"cleaned_df.csv\")"
   ]
  },
  {
   "cell_type": "code",
   "execution_count": null,
   "metadata": {},
   "outputs": [],
   "source": []
  }
 ],
 "metadata": {
  "kernelspec": {
   "display_name": ".venv",
   "language": "python",
   "name": "python3"
  },
  "language_info": {
   "codemirror_mode": {
    "name": "ipython",
    "version": 3
   },
   "file_extension": ".py",
   "mimetype": "text/x-python",
   "name": "python",
   "nbconvert_exporter": "python",
   "pygments_lexer": "ipython3",
   "version": "3.12.7"
  }
 },
 "nbformat": 4,
 "nbformat_minor": 2
}
